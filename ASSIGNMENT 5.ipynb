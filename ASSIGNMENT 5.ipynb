{
 "cells": [
  {
   "cell_type": "markdown",
   "metadata": {},
   "source": [
    "# DAY 5\n"
   ]
  },
  {
   "cell_type": "markdown",
   "metadata": {},
   "source": [
    "# ASSIGNMENT 1\n",
    "\n",
    "take the this list [0,1,2,10,4,1,0,56,2,0,1,3,0,56,0,4] Use the sort method Sort in increasing order but all zeros should be at right-hand side"
   ]
  },
  {
   "cell_type": "code",
   "execution_count": 1,
   "metadata": {},
   "outputs": [
    {
     "name": "stdout",
     "output_type": "stream",
     "text": [
      "[1, 1, 1, 2, 2, 3, 4, 4, 10, 56, 56, 0, 0, 0, 0, 0]\n"
     ]
    }
   ],
   "source": [
    "\n",
    "list = [0,1,2,10,4,1,0,56,2,0,1,3,0,56,0,4]\n",
    "list.sort()\n",
    "j=list.count(0);\n",
    "print(list[j:]+list[:j])"
   ]
  },
  {
   "cell_type": "markdown",
   "metadata": {},
   "source": [
    "# ASSIGNMENT 2\n",
    "\n",
    "ist1 = [10,20L40,60,70,80] sorted list\n",
    "\n",
    "list2 = [5,15,25,35,45,60] sorted list\n",
    "\n",
    "merge these two sorted lists produce one sorted list, but use only one loop either while or for but only one time; don't use the sort method"
   ]
  },
  {
   "cell_type": "code",
   "execution_count": 2,
   "metadata": {},
   "outputs": [
    {
     "name": "stdout",
     "output_type": "stream",
     "text": [
      "[5, 10, 15, 20, 25, 35, 40, 45, 60, 70, 80]\n"
     ]
    }
   ],
   "source": [
    "\n",
    "list1 = [10,20,40,60,70,80]\n",
    "list2 = [5,15,25,35,45,60]\n",
    "MergedList =list1+list2\n",
    "ResSortedList=[]\n",
    "for i in range(min(MergedList),max(MergedList)+1):\n",
    "    if i in MergedList:\n",
    "        ResSortedList.append(i)\n",
    "print(ResSortedList)"
   ]
  },
  {
   "cell_type": "code",
   "execution_count": null,
   "metadata": {},
   "outputs": [],
   "source": []
  }
 ],
 "metadata": {
  "kernelspec": {
   "display_name": "Python 3",
   "language": "python",
   "name": "python3"
  },
  "language_info": {
   "codemirror_mode": {
    "name": "ipython",
    "version": 3
   },
   "file_extension": ".py",
   "mimetype": "text/x-python",
   "name": "python",
   "nbconvert_exporter": "python",
   "pygments_lexer": "ipython3",
   "version": "3.7.6"
  }
 },
 "nbformat": 4,
 "nbformat_minor": 4
}
